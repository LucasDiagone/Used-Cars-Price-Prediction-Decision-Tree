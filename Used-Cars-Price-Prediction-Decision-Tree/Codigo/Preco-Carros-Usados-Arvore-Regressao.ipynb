{
 "cells": [
  {
   "cell_type": "markdown",
   "id": "16e892e7",
   "metadata": {},
   "source": [
    "# 🚗 Projeto Completo: Previsão de Preço de Carros Usados\n",
    "\n",
    "Este notebook apresenta a análise, limpeza, modelagem e previsão usando dados de veículos usados."
   ]
  },
  {
   "cell_type": "code",
   "execution_count": null,
   "id": "b880751a",
   "metadata": {},
   "outputs": [],
   "source": [
    "import pandas as pd\n",
    "import numpy as np\n",
    "from sklearn.model_selection import train_test_split\n",
    "from sklearn.tree import DecisionTreeRegressor\n",
    "from sklearn.metrics import mean_squared_error, mean_absolute_error, r2_score\n",
    "from scipy.stats import chi2_contingency\n"
   ]
  },
  {
   "cell_type": "markdown",
   "id": "64fb7aa4",
   "metadata": {},
   "source": [
    "## 1️⃣ 📥 Carregamento dos Dados e Limpeza Inicial\n",
    "\n",
    "### 1.1️⃣ Carregar os dados\n",
    "Carregamos o arquivo CSV com os dados dos veículos para análise inicial."
   ]
  },
  {
   "cell_type": "code",
   "execution_count": null,
   "id": "c99d3203",
   "metadata": {},
   "outputs": [],
   "source": [
    "df = pd.read_csv('vehicles.csv')"
   ]
  },
  {
   "cell_type": "markdown",
   "id": "a6caade4",
   "metadata": {},
   "source": [
    "### 1.2️⃣ Análise descritiva inicial (opcional)\n",
    "Visualização das primeiras linhas e estatísticas para entender o formato e as variáveis do dataset."
   ]
  },
  {
   "cell_type": "code",
   "execution_count": null,
   "id": "dc386bab",
   "metadata": {},
   "outputs": [],
   "source": [
    "# print(df.head())\n",
    "# print(df.describe())"
   ]
  },
  {
   "cell_type": "markdown",
   "id": "2118449c",
   "metadata": {},
   "source": [
    "### 1.3️⃣ 🔧 Tratamento de Outliers na Variável 'price'\n",
    "Valores de preço acima de 500.000 foram considerados outliers. Substituímos esses valores pela média dos preços dentro do limite para evitar que valores extremos prejudiquem o modelo."
   ]
  },
  {
   "cell_type": "code",
   "execution_count": null,
   "id": "2986385a",
   "metadata": {},
   "outputs": [],
   "source": [
    "limite_preco = 500000  # limite superior para preço\n",
    "df_sem_outlier = df[df['price'] <= limite_preco]\n",
    "media_sem_outlier = df_sem_outlier['price'].mean()\n",
    "\n",
    "df['price'] = df['price'].astype(float)\n",
    "df.loc[df['price'] > limite_preco, 'price'] = media_sem_outlier\n"
   ]
  },
  {
   "cell_type": "markdown",
   "id": "83519906",
   "metadata": {},
   "source": [
    "### 1.4️⃣ 🔧 Tratamento de Outliers na Variável 'odometer'\n",
    "Valores de odômetro acima de 200.000 km foram considerados incomuns e substituídos pela média dos veículos dentro desse limite para manter dados consistentes."
   ]
  },
  {
   "cell_type": "code",
   "execution_count": null,
   "id": "477b4e08",
   "metadata": {},
   "outputs": [],
   "source": [
    "limite_odometer = 200000\n",
    "out_odometer = df[df['odometer'] <= limite_odometer]\n",
    "media_filtrada = out_odometer['odometer'].mean()\n",
    "\n",
    "df.loc[df['odometer'] > limite_odometer, 'odometer'] = media_filtrada\n"
   ]
  },
  {
   "cell_type": "markdown",
   "id": "af2c6890",
   "metadata": {},
   "source": [
    "### 1.5️⃣ 🔄 Preenchimento de valores ausentes em colunas numéricas\n",
    "Para as colunas numéricas importantes, como 'year' e 'odometer', substituímos valores ausentes pela média, garantindo que não haja dados faltantes que possam prejudicar a análise."
   ]
  },
  {
   "cell_type": "code",
   "execution_count": null,
   "id": "13db3a50",
   "metadata": {},
   "outputs": [],
   "source": [
    "for col in ['year', 'odometer']:\n",
    "    df[col] = df[col].fillna(df[col].mean())\n"
   ]
  },
  {
   "cell_type": "markdown",
   "id": "ad35b03c",
   "metadata": {},
   "source": [
    "### 1.6️⃣ ❌ Remoção de linhas com valores ausentes em colunas críticas\n",
    "Removemos linhas que possuem valores ausentes em latitude, longitude e descrição, pois são essenciais para a análise e modelagem."
   ]
  },
  {
   "cell_type": "code",
   "execution_count": null,
   "id": "52fbbcb0",
   "metadata": {},
   "outputs": [],
   "source": [
    "df.dropna(subset=['lat', 'long', 'description'], inplace=True)"
   ]
  },
  {
   "cell_type": "markdown",
   "id": "63e81f92",
   "metadata": {},
   "source": [
    "### 1.7️⃣ 🟠 Preenchimento de NaNs em colunas categóricas com 'unknown'\n",
    "Para colunas categóricas importantes, substituímos valores ausentes por 'unknown', mantendo a consistência sem remover registros."
   ]
  },
  {
   "cell_type": "code",
   "execution_count": null,
   "id": "d186c116",
   "metadata": {},
   "outputs": [],
   "source": [
    "colunas_para_preencher = [\n",
    "    'manufacturer', 'model', 'fuel', 'title_status',\n",
    "    'transmission', 'type', 'paint_color', 'condition',\n",
    "    'cylinders', 'drive'\n",
    "]\n",
    "df[colunas_para_preencher] = df[colunas_para_preencher].fillna('unknown')\n"
   ]
  },
  {
   "cell_type": "markdown",
   "id": "08ef421b",
   "metadata": {},
   "source": [
    "### 1.8️⃣ 🧹 Remoção de colunas irrelevantes ou com muitos dados faltantes\n",
    "Colunas que não agregam valor para a modelagem ou possuem muitos dados ausentes foram removidas para simplificar o dataset."
   ]
  },
  {
   "cell_type": "code",
   "execution_count": null,
   "id": "6e95f0af",
   "metadata": {},
   "outputs": [],
   "source": [
    "df.drop(columns=['VIN', 'size', 'county', 'url', 'region_url', 'image_url', 'description', 'posting_date'], inplace=True, errors='ignore')\n"
   ]
  },
  {
   "cell_type": "markdown",
   "id": "bd4bf59e",
   "metadata": {},
   "source": [
    "### 1.9️⃣ 🧼 Verificação e remoção de linhas duplicadas\n",
    "Identificamos e removemos registros duplicados para garantir qualidade e evitar vieses no modelo."
   ]
  },
  {
   "cell_type": "code",
   "execution_count": null,
   "id": "78690226",
   "metadata": {},
   "outputs": [],
   "source": [
    "print(f\"Duplicadas: {df.duplicated().sum()}\")\n",
    "df.drop_duplicates(inplace=True)\n"
   ]
  },
  {
   "cell_type": "markdown",
   "id": "89697d2e",
   "metadata": {},
   "source": [
    "## 2️⃣ 🧩 Preparação das Variáveis Categóricas\n",
    "\n",
    "### 2.1️⃣ 🔍 Identificação das colunas categóricas\n",
    "Selecionamos as colunas categóricas para codificação."
   ]
  },
  {
   "cell_type": "code",
   "execution_count": null,
   "id": "a61e5fbe",
   "metadata": {},
   "outputs": [],
   "source": [
    "cols_object = df.select_dtypes(include='object').columns\n",
    "print(f\"Colunas categóricas: {cols_object}\")\n"
   ]
  },
  {
   "cell_type": "markdown",
   "id": "7e56cfd1",
   "metadata": {},
   "source": [
    "### 2.2️⃣ 🎯 Manter as 10 categorias mais comuns em 'model' e 'region' e agrupar as outras em 'other'\n",
    "Agrupamos as categorias menos frequentes em uma categoria única para evitar alta cardinalidade que pode prejudicar o modelo."
   ]
  },
  {
   "cell_type": "code",
   "execution_count": null,
   "id": "3d0bfa6b",
   "metadata": {},
   "outputs": [],
   "source": [
    "top_10_model = df['model'].value_counts().nlargest(10).index.tolist()\n",
    "df['model'] = df['model'].apply(lambda x: x if x in top_10_model else 'other')\n",
    "\n",
    "top_10_region = df['region'].value_counts().nlargest(10).index.tolist()\n",
    "df['region'] = df['region'].apply(lambda x: x if x in top_10_region else 'other')\n"
   ]
  },
  {
   "cell_type": "markdown",
   "id": "9edd2858",
   "metadata": {},
   "source": [
    "### 2.3️⃣ 🧪 Teste Qui-Quadrado para variáveis categóricas\n",
    "Avalia se as variáveis categóricas possuem relação estatisticamente significativa com o preço."
   ]
  },
  {
   "cell_type": "code",
   "execution_count": null,
   "id": "23a50620",
   "metadata": {},
   "outputs": [],
   "source": [
    "cols_to_cod = [\n",
    "    'region', 'manufacturer', 'model', 'condition', \n",
    "    'cylinders', 'fuel', 'title_status', 'transmission', \n",
    "    'drive', 'type', 'paint_color', 'state'\n",
    "]\n",
    "\n",
    "for col in cols_to_cod:\n",
    "    tabela = pd.crosstab(df[col], df['price'])\n",
    "    qui2, p, _, _ = chi2_contingency(tabela)\n",
    "    print(f\"{col} P-valor: {p:.2f}\")\n"
   ]
  },
  {
   "cell_type": "markdown",
   "id": "87ee4bd2",
   "metadata": {},
   "source": [
    "📝 **Interpretação:**\n",
    "✅ Todas as variáveis categóricas testadas apresentaram p-valor < 0.05, indicando que possuem relação significativa com o preço."
   ]
  },
  {
   "cell_type": "markdown",
   "id": "b0793989",
   "metadata": {},
   "source": [
    "## 3️⃣ 📊 Teste de Correlação para Variáveis Numéricas"
   ]
  },
  {
   "cell_type": "code",
   "execution_count": null,
   "id": "05190789",
   "metadata": {},
   "outputs": [],
   "source": [
    "numeric = df[['price', 'year', 'odometer', 'lat', 'long']]\n",
    "correlation = numeric.corr(numeric_only=True)['price'].drop('price')\n",
    "print(\"\\nCorrelação com Price:\")\n",
    "print(correlation)\n"
   ]
  },
  {
   "cell_type": "markdown",
   "id": "78180870",
   "metadata": {},
   "source": [
    "📝 **Interpretação:**  \n",
    "⏳ Ano (year): +0.28 (correlação positiva moderada) — Carros mais novos tendem a ter preço maior.  \n",
    "🚗 Quilometragem (odometer): -0.43 (correlação negativa moderada) — Quanto maior a quilometragem, menor o preço.  \n",
    "📍 Latitude e Longitude apresentam correlação muito baixa, sem impacto relevante.\n"
   ]
  },
  {
   "cell_type": "markdown",
   "id": "eb912b42",
   "metadata": {},
   "source": [
    "## 4️⃣ ⚙️ Codificação One-Hot e Preparação dos Dados para Modelagem"
   ]
  },
  {
   "cell_type": "code",
   "execution_count": null,
   "id": "70f70dfe",
   "metadata": {},
   "outputs": [],
   "source": [
    "df = pd.get_dummies(df, columns=cols_to_cod, drop_first=True)\n",
    "\n",
    "previsores = ['year', 'odometer'] + [col for col in df.columns if (\n",
    "    col.startswith('region_') or\n",
    "    col.startswith('manufacturer_') or\n",
    "    col.startswith('model_') or\n",
    "    col.startswith('condition_') or\n",
    "    col.startswith('cylinders_') or\n",
    "    col.startswith('fuel_') or\n",
    "    col.startswith('title_status_') or\n",
    "    col.startswith('transmission_') or\n",
    "    col.startswith('drive_') or\n",
    "    col.startswith('type_') or\n",
    "    col.startswith('paint_color_') or\n",
    "    col.startswith('state_')\n",
    ")]\n",
    "\n",
    "X = df[previsores].values\n",
    "y = df['price'].values\n"
   ]
  },
  {
   "cell_type": "markdown",
   "id": "e10c44b8",
   "metadata": {},
   "source": [
    "## 5️⃣ 🧪 Treinamento e Avaliação do Modelo"
   ]
  },
  {
   "cell_type": "code",
   "execution_count": null,
   "id": "34093bb1",
   "metadata": {},
   "outputs": [],
   "source": [
    "X_train, X_test, y_train, y_test = train_test_split(X, y, test_size=0.3, random_state=42)\n",
    "\n",
    "modelo = DecisionTreeRegressor(random_state=42)\n",
    "modelo.fit(X_train, y_train)\n",
    "\n",
    "y_pred = modelo.predict(X_test)\n",
    "\n",
    "print(f\"\\nMSE: {mean_squared_error(y_test, y_pred):,.2f}\")\n",
    "print(f\"RMSE: {np.sqrt(mean_squared_error(y_test, y_pred)):,.2f}\")\n",
    "print(f\"MAE: {mean_absolute_error(y_test, y_pred):,.2f}\")\n",
    "\n",
    "r2 = r2_score(y_test, y_pred)\n",
    "print(f\"R² (coeficiente de determinação): {r2:.3f}\")\n"
   ]
  },
  {
   "cell_type": "markdown",
   "id": "6054ee2b",
   "metadata": {},
   "source": [
    "📝 **Interpretação do R²:**  \n",
    "📉 R² < 0.3: modelo fraco, baixa capacidade explicativa.  \n",
    "⚠️ 0.3 ≤ R² < 0.6: modelo razoável, precisa melhorar.  \n",
    "✅ 0.6 ≤ R² < 0.8: modelo bom, explica boa parte da variabilidade.  \n",
    "🌟 R² ≥ 0.8: modelo excelente, alta capacidade explicativa.\n",
    "\n",
    "**Nosso Resultado:**  \n",
    "📊 R² = 0.7 — O modelo demonstra boa capacidade de previsão, capturando a maior parte das variações no preço dos veículos. Esse resultado indica uma base robusta, porém, é possível aprimorar o modelo para alcançar maior precisão.\n"
   ]
  },
  {
   "cell_type": "markdown",
   "id": "2989c15f",
   "metadata": {},
   "source": [
    "## 6️⃣ 🚗 Previsão Simples com Variáveis Numéricas"
   ]
  },
  {
   "cell_type": "code",
   "execution_count": null,
   "id": "954f192b",
   "metadata": {},
   "outputs": [],
   "source": [
    "previsores_num = ['year', 'odometer']\n",
    "X_num = df[previsores_num].values\n",
    "y = df['price'].values\n",
    "\n",
    "X_train, X_test, y_train, y_test = train_test_split(X_num, y, test_size=0.3, random_state=42)\n",
    "\n",
    "modelo_num = DecisionTreeRegressor(random_state=42)\n",
    "modelo_num.fit(X_train, y_train)\n",
    "\n",
    "novo_carro_num = [[2015, 60000]]  # Ano 2015 e 60.000 km rodados (previsores)\n",
    "\n",
    "preco_previsto = modelo_num.predict(novo_carro_num)[0]\n",
    "print(f\"Preço previsto só com dados numéricos: ${preco_previsto:,.2f}\")\n"
   ]
  },
  {
   "cell_type": "markdown",
   "id": "37e9cc66",
   "metadata": {},
   "source": [
    "📝 **Observação:**  \n",
    "Este é um exemplo simples de previsão usando somente as variáveis numéricas mais relevantes, útil para testes rápidos e validações iniciais.\n"
   ]
  },
  {
   "cell_type": "markdown",
   "id": "6ea269ac",
   "metadata": {},
   "source": [
    "# 📝 Observações Finais\n",
    "\n",
    "Este projeto apresenta uma limpeza e tratamento de dados detalhados e completos, incluindo:\n",
    "\n",
    "- Identificação e tratamento de outliers nas variáveis principais (price e odometer) para evitar distorções.  \n",
    "- Tratamento cuidadoso de valores ausentes com estratégias diferentes para numéricos e categóricos.  \n",
    "- Agrupamento das categorias menos frequentes para evitar alta cardinalidade.  \n",
    "- Análises estatísticas com teste Qui-Quadrado e correlação para validar relações com o target.  \n",
    "- Aplicação de técnicas adequadas para codificação e preparação dos dados.  \n",
    "- Treinamento e avaliação de modelo de árvore de decisão com métricas claras e interpretação profissional.  \n",
    "- Inclusão de exemplo prático para previsão simples, facilitando entendimento e testes.\n",
    "\n",
    "O R² foi adotado como principal métrica para avaliação da performance, dado que é uma métrica interpretável para problemas de regressão, indicando o percentual de variância explicada pelo modelo.\n"
   ]
  }
 ],
 "metadata": {
  "language_info": {
   "name": "python"
  }
 },
 "nbformat": 4,
 "nbformat_minor": 5
}
